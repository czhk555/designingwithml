{
 "cells": [
  {
   "cell_type": "markdown",
   "metadata": {
    "id": "tPkN6jDkixiV"
   },
   "source": [
    "# Introduction to Tensorflow\n",
    "\n",
    "- Simple linear regression with Tensorflow.\n",
    "  - Fit a linear regression line \n",
    "- Export the model to tensorflow lite."
   ]
  },
  {
   "cell_type": "code",
   "execution_count": 1,
   "metadata": {
    "colab": {
     "base_uri": "https://localhost:8080/"
    },
    "id": "UW9no2e2ocVy",
    "outputId": "4f9c95eb-c38a-4b8f-d1ec-78cbfaf6acf5"
   },
   "outputs": [
    {
     "name": "stderr",
     "output_type": "stream",
     "text": [
      "/opt/homebrew/lib/python3.9/site-packages/h5py/__init__.py:36: UserWarning: h5py is running against HDF5 1.12.2 when it was built against 1.12.1, this may cause problems\n",
      "  _warn((\"h5py is running against HDF5 {0} when it was built against {1}, \"\n"
     ]
    },
    {
     "name": "stdout",
     "output_type": "stream",
     "text": [
      "2.8.0\n"
     ]
    }
   ],
   "source": [
    "# ! pip install -q seaborn tensorflow_hub\n",
    "import matplotlib.pyplot as plt\n",
    "import numpy as np\n",
    "import pandas as pd\n",
    "import seaborn as sns\n",
    "import requests\n",
    "\n",
    "# Make NumPy printouts easier to read.\n",
    "np.set_printoptions(precision=3, suppress=True)\n",
    "\n",
    "import tensorflow as tf\n",
    "from tensorflow import keras\n",
    "from tensorflow.keras import layers\n",
    "\n",
    "print(tf.__version__)"
   ]
  },
  {
   "cell_type": "markdown",
   "metadata": {},
   "source": [
    "## Utility Functions\n",
    "\n",
    "Implement a few utility functions which we will use across the notebook"
   ]
  },
  {
   "cell_type": "code",
   "execution_count": 2,
   "metadata": {
    "id": "VAiNR_Zyyti1"
   },
   "outputs": [],
   "source": [
    "# plot model training history\n",
    "def plot_history(history):\n",
    "    \n",
    "    metrics =  [x for x in history.history.keys() if \"val\" not in x]\n",
    "    # metrics = list(history.history.keys())\n",
    "    ncols = 2\n",
    "    nrows = int(np.ceil(len(metrics)/ncols))  \n",
    "    fig, ax = plt.subplots(nrows=nrows, ncols=ncols, figsize=(18,nrows*6) )\n",
    "    fig.suptitle(f\"Model Training History\" )\n",
    "    i = 0 \n",
    "    if ax.ndim == 1:\n",
    "        ax = ax.reshape(ax.shape[0],1) \n",
    "    for row in ax:\n",
    "        for col in row:\n",
    "            col.plot(history.history[metrics[i]])\n",
    "            col.plot(history.history[\"val_\"+metrics[i]])\n",
    "            col.set_xlabel(\"Epoch\")\n",
    "            col.set_ylabel(f\"{metrics[i]}\")\n",
    "            col.legend(['train', 'val'], loc='upper right')\n",
    "            col.title.set_text(f\"{metrics[i]}\")\n",
    "            i += 1\n",
    "    plt.tight_layout()\n",
    "    plt.rcParams.update({'font.size': 18})  \n",
    "    \n",
    "    plt.show()\n",
    "\n",
    "# download data file\n",
    "def download_file(url): \n",
    "  download_path = f'/tmp/{url.split(\"/\")[-1]}'\n",
    "  results = requests.get(url)\n",
    "  with open(download_path, 'wb') as f:\n",
    "      f.write(results.content)\n",
    "  return download_path"
   ]
  },
  {
   "cell_type": "markdown",
   "metadata": {
    "id": "s9678S13s7qc"
   },
   "source": [
    "## Linear Regression with Tensorflow \n",
    "\n",
    "Based on Tensorflow tutorial [here](https://github.com/tensorflow/docs/blob/master/site/en/tutorials/keras/regression.ipynb).\n",
    "- Download the MPG Dataset \n",
    "- Build a neural network model to predict Miles Per Gallon for a car, given its properties."
   ]
  },
  {
   "cell_type": "code",
   "execution_count": 3,
   "metadata": {
    "id": "MuN12Nfjsts6"
   },
   "outputs": [
    {
     "name": "stderr",
     "output_type": "stream",
     "text": [
      "2022-11-03 03:39:10.578331: W tensorflow/core/platform/profile_utils/cpu_utils.cc:128] Failed to get CPU frequency: 0 Hz\n"
     ]
    }
   ],
   "source": [
    "# download CSV\n",
    "url = 'http://archive.ics.uci.edu/ml/machine-learning-databases/auto-mpg/auto-mpg.data'\n",
    "column_names = ['MPG', 'Cylinders', 'Displacement', 'Horsepower', 'Weight',\n",
    "                'Acceleration', 'Model Year', 'Origin']\n",
    "\n",
    "# Read csv file using pandas\n",
    "raw_dataset = pd.read_csv(url, names=column_names,\n",
    "                          na_values='?', comment='\\t',\n",
    "                          sep=' ', skipinitialspace=True)\n",
    "dataset = raw_dataset.copy()\n",
    "dataset = dataset.dropna()\n",
    "\n",
    "# Preprocessing to replace car origin field one hot encoded variables\n",
    "dataset['Origin'] = dataset['Origin'].map({1: 'USA', 2: 'Europe', 3: 'Japan'})\n",
    "dataset = pd.get_dummies(dataset, columns=['Origin'], prefix='', prefix_sep='')\n",
    "\n",
    "# Split dataset into train and test split\n",
    "train_dataset = dataset.sample(frac=0.8, random_state=0)\n",
    "test_dataset = dataset.drop(train_dataset.index)\n",
    "\n",
    "train_features = train_dataset.copy()\n",
    "test_features = test_dataset.copy()\n",
    "\n",
    "train_labels = train_features.pop('MPG')\n",
    "test_labels = test_features.pop('MPG')\n",
    "\n",
    "\n",
    "# Build a feature normalization layer. Fit it on train data only\n",
    "normalizer = tf.keras.layers.Normalization(axis=-1, input_shape=(train_features.shape[1],))\n",
    "normalizer.adapt(np.array(train_features))\n"
   ]
  },
  {
   "cell_type": "code",
   "execution_count": null,
   "metadata": {},
   "outputs": [],
   "source": []
  },
  {
   "cell_type": "code",
   "execution_count": 4,
   "metadata": {
    "colab": {
     "base_uri": "https://localhost:8080/",
     "height": 424
    },
    "id": "9MBjpcRttKo5",
    "outputId": "22a2fcae-59a7-40ac-a15d-908752d608ec"
   },
   "outputs": [
    {
     "data": {
      "text/html": [
       "<div>\n",
       "<style scoped>\n",
       "    .dataframe tbody tr th:only-of-type {\n",
       "        vertical-align: middle;\n",
       "    }\n",
       "\n",
       "    .dataframe tbody tr th {\n",
       "        vertical-align: top;\n",
       "    }\n",
       "\n",
       "    .dataframe thead th {\n",
       "        text-align: right;\n",
       "    }\n",
       "</style>\n",
       "<table border=\"1\" class=\"dataframe\">\n",
       "  <thead>\n",
       "    <tr style=\"text-align: right;\">\n",
       "      <th></th>\n",
       "      <th>MPG</th>\n",
       "      <th>Cylinders</th>\n",
       "      <th>Displacement</th>\n",
       "      <th>Horsepower</th>\n",
       "      <th>Weight</th>\n",
       "      <th>Acceleration</th>\n",
       "      <th>Model Year</th>\n",
       "      <th>Europe</th>\n",
       "      <th>Japan</th>\n",
       "      <th>USA</th>\n",
       "    </tr>\n",
       "  </thead>\n",
       "  <tbody>\n",
       "    <tr>\n",
       "      <th>0</th>\n",
       "      <td>18.0</td>\n",
       "      <td>8</td>\n",
       "      <td>307.0</td>\n",
       "      <td>130.0</td>\n",
       "      <td>3504.0</td>\n",
       "      <td>12.0</td>\n",
       "      <td>70</td>\n",
       "      <td>0</td>\n",
       "      <td>0</td>\n",
       "      <td>1</td>\n",
       "    </tr>\n",
       "    <tr>\n",
       "      <th>1</th>\n",
       "      <td>15.0</td>\n",
       "      <td>8</td>\n",
       "      <td>350.0</td>\n",
       "      <td>165.0</td>\n",
       "      <td>3693.0</td>\n",
       "      <td>11.5</td>\n",
       "      <td>70</td>\n",
       "      <td>0</td>\n",
       "      <td>0</td>\n",
       "      <td>1</td>\n",
       "    </tr>\n",
       "    <tr>\n",
       "      <th>2</th>\n",
       "      <td>18.0</td>\n",
       "      <td>8</td>\n",
       "      <td>318.0</td>\n",
       "      <td>150.0</td>\n",
       "      <td>3436.0</td>\n",
       "      <td>11.0</td>\n",
       "      <td>70</td>\n",
       "      <td>0</td>\n",
       "      <td>0</td>\n",
       "      <td>1</td>\n",
       "    </tr>\n",
       "    <tr>\n",
       "      <th>3</th>\n",
       "      <td>16.0</td>\n",
       "      <td>8</td>\n",
       "      <td>304.0</td>\n",
       "      <td>150.0</td>\n",
       "      <td>3433.0</td>\n",
       "      <td>12.0</td>\n",
       "      <td>70</td>\n",
       "      <td>0</td>\n",
       "      <td>0</td>\n",
       "      <td>1</td>\n",
       "    </tr>\n",
       "    <tr>\n",
       "      <th>4</th>\n",
       "      <td>17.0</td>\n",
       "      <td>8</td>\n",
       "      <td>302.0</td>\n",
       "      <td>140.0</td>\n",
       "      <td>3449.0</td>\n",
       "      <td>10.5</td>\n",
       "      <td>70</td>\n",
       "      <td>0</td>\n",
       "      <td>0</td>\n",
       "      <td>1</td>\n",
       "    </tr>\n",
       "    <tr>\n",
       "      <th>...</th>\n",
       "      <td>...</td>\n",
       "      <td>...</td>\n",
       "      <td>...</td>\n",
       "      <td>...</td>\n",
       "      <td>...</td>\n",
       "      <td>...</td>\n",
       "      <td>...</td>\n",
       "      <td>...</td>\n",
       "      <td>...</td>\n",
       "      <td>...</td>\n",
       "    </tr>\n",
       "    <tr>\n",
       "      <th>393</th>\n",
       "      <td>27.0</td>\n",
       "      <td>4</td>\n",
       "      <td>140.0</td>\n",
       "      <td>86.0</td>\n",
       "      <td>2790.0</td>\n",
       "      <td>15.6</td>\n",
       "      <td>82</td>\n",
       "      <td>0</td>\n",
       "      <td>0</td>\n",
       "      <td>1</td>\n",
       "    </tr>\n",
       "    <tr>\n",
       "      <th>394</th>\n",
       "      <td>44.0</td>\n",
       "      <td>4</td>\n",
       "      <td>97.0</td>\n",
       "      <td>52.0</td>\n",
       "      <td>2130.0</td>\n",
       "      <td>24.6</td>\n",
       "      <td>82</td>\n",
       "      <td>1</td>\n",
       "      <td>0</td>\n",
       "      <td>0</td>\n",
       "    </tr>\n",
       "    <tr>\n",
       "      <th>395</th>\n",
       "      <td>32.0</td>\n",
       "      <td>4</td>\n",
       "      <td>135.0</td>\n",
       "      <td>84.0</td>\n",
       "      <td>2295.0</td>\n",
       "      <td>11.6</td>\n",
       "      <td>82</td>\n",
       "      <td>0</td>\n",
       "      <td>0</td>\n",
       "      <td>1</td>\n",
       "    </tr>\n",
       "    <tr>\n",
       "      <th>396</th>\n",
       "      <td>28.0</td>\n",
       "      <td>4</td>\n",
       "      <td>120.0</td>\n",
       "      <td>79.0</td>\n",
       "      <td>2625.0</td>\n",
       "      <td>18.6</td>\n",
       "      <td>82</td>\n",
       "      <td>0</td>\n",
       "      <td>0</td>\n",
       "      <td>1</td>\n",
       "    </tr>\n",
       "    <tr>\n",
       "      <th>397</th>\n",
       "      <td>31.0</td>\n",
       "      <td>4</td>\n",
       "      <td>119.0</td>\n",
       "      <td>82.0</td>\n",
       "      <td>2720.0</td>\n",
       "      <td>19.4</td>\n",
       "      <td>82</td>\n",
       "      <td>0</td>\n",
       "      <td>0</td>\n",
       "      <td>1</td>\n",
       "    </tr>\n",
       "  </tbody>\n",
       "</table>\n",
       "<p>392 rows × 10 columns</p>\n",
       "</div>"
      ],
      "text/plain": [
       "      MPG  Cylinders  Displacement  Horsepower  Weight  Acceleration  \\\n",
       "0    18.0          8         307.0       130.0  3504.0          12.0   \n",
       "1    15.0          8         350.0       165.0  3693.0          11.5   \n",
       "2    18.0          8         318.0       150.0  3436.0          11.0   \n",
       "3    16.0          8         304.0       150.0  3433.0          12.0   \n",
       "4    17.0          8         302.0       140.0  3449.0          10.5   \n",
       "..    ...        ...           ...         ...     ...           ...   \n",
       "393  27.0          4         140.0        86.0  2790.0          15.6   \n",
       "394  44.0          4          97.0        52.0  2130.0          24.6   \n",
       "395  32.0          4         135.0        84.0  2295.0          11.6   \n",
       "396  28.0          4         120.0        79.0  2625.0          18.6   \n",
       "397  31.0          4         119.0        82.0  2720.0          19.4   \n",
       "\n",
       "     Model Year  Europe  Japan  USA  \n",
       "0            70       0      0    1  \n",
       "1            70       0      0    1  \n",
       "2            70       0      0    1  \n",
       "3            70       0      0    1  \n",
       "4            70       0      0    1  \n",
       "..          ...     ...    ...  ...  \n",
       "393          82       0      0    1  \n",
       "394          82       1      0    0  \n",
       "395          82       0      0    1  \n",
       "396          82       0      0    1  \n",
       "397          82       0      0    1  \n",
       "\n",
       "[392 rows x 10 columns]"
      ]
     },
     "execution_count": 4,
     "metadata": {},
     "output_type": "execute_result"
    }
   ],
   "source": [
    "dataset"
   ]
  },
  {
   "cell_type": "code",
   "execution_count": 29,
   "metadata": {
    "id": "6m6xAZR_tSgs"
   },
   "outputs": [
    {
     "name": "stdout",
     "output_type": "stream",
     "text": [
      "Epoch 1/80\n",
      "8/8 - 0s - loss: 96.3997 - mape: 96.3997 - val_loss: 93.1073 - val_mape: 93.1073 - 211ms/epoch - 26ms/step\n",
      "Epoch 2/80\n",
      "8/8 - 0s - loss: 90.1328 - mape: 90.1328 - val_loss: 88.3076 - val_mape: 88.3076 - 13ms/epoch - 2ms/step\n",
      "Epoch 3/80\n",
      "8/8 - 0s - loss: 86.1028 - mape: 86.1028 - val_loss: 87.4665 - val_mape: 87.4665 - 15ms/epoch - 2ms/step\n",
      "Epoch 4/80\n",
      "8/8 - 0s - loss: 84.2810 - mape: 84.2810 - val_loss: 86.5766 - val_mape: 86.5766 - 13ms/epoch - 2ms/step\n",
      "Epoch 5/80\n",
      "8/8 - 0s - loss: 82.3140 - mape: 82.3140 - val_loss: 84.1140 - val_mape: 84.1140 - 14ms/epoch - 2ms/step\n",
      "Epoch 6/80\n",
      "8/8 - 0s - loss: 79.9497 - mape: 79.9497 - val_loss: 81.4990 - val_mape: 81.4990 - 14ms/epoch - 2ms/step\n",
      "Epoch 7/80\n",
      "8/8 - 0s - loss: 77.7746 - mape: 77.7746 - val_loss: 79.2531 - val_mape: 79.2531 - 14ms/epoch - 2ms/step\n",
      "Epoch 8/80\n",
      "8/8 - 0s - loss: 75.6108 - mape: 75.6108 - val_loss: 77.6294 - val_mape: 77.6294 - 14ms/epoch - 2ms/step\n",
      "Epoch 9/80\n",
      "8/8 - 0s - loss: 73.4219 - mape: 73.4219 - val_loss: 75.8804 - val_mape: 75.8804 - 14ms/epoch - 2ms/step\n",
      "Epoch 10/80\n",
      "8/8 - 0s - loss: 71.3184 - mape: 71.3184 - val_loss: 73.9851 - val_mape: 73.9851 - 14ms/epoch - 2ms/step\n",
      "Epoch 11/80\n",
      "8/8 - 0s - loss: 69.3620 - mape: 69.3620 - val_loss: 71.9660 - val_mape: 71.9660 - 13ms/epoch - 2ms/step\n",
      "Epoch 12/80\n",
      "8/8 - 0s - loss: 67.3841 - mape: 67.3841 - val_loss: 70.6422 - val_mape: 70.6422 - 14ms/epoch - 2ms/step\n",
      "Epoch 13/80\n",
      "8/8 - 0s - loss: 65.4054 - mape: 65.4054 - val_loss: 68.6712 - val_mape: 68.6712 - 14ms/epoch - 2ms/step\n",
      "Epoch 14/80\n",
      "8/8 - 0s - loss: 63.3288 - mape: 63.3288 - val_loss: 66.7917 - val_mape: 66.7917 - 15ms/epoch - 2ms/step\n",
      "Epoch 15/80\n",
      "8/8 - 0s - loss: 61.4730 - mape: 61.4730 - val_loss: 65.1069 - val_mape: 65.1069 - 13ms/epoch - 2ms/step\n",
      "Epoch 16/80\n",
      "8/8 - 0s - loss: 59.6431 - mape: 59.6431 - val_loss: 63.4687 - val_mape: 63.4687 - 14ms/epoch - 2ms/step\n",
      "Epoch 17/80\n",
      "8/8 - 0s - loss: 57.7486 - mape: 57.7486 - val_loss: 61.8705 - val_mape: 61.8705 - 14ms/epoch - 2ms/step\n",
      "Epoch 18/80\n",
      "8/8 - 0s - loss: 55.9917 - mape: 55.9917 - val_loss: 60.3602 - val_mape: 60.3602 - 15ms/epoch - 2ms/step\n",
      "Epoch 19/80\n",
      "8/8 - 0s - loss: 54.1958 - mape: 54.1958 - val_loss: 58.7958 - val_mape: 58.7958 - 13ms/epoch - 2ms/step\n",
      "Epoch 20/80\n",
      "8/8 - 0s - loss: 52.4954 - mape: 52.4954 - val_loss: 57.3220 - val_mape: 57.3220 - 13ms/epoch - 2ms/step\n",
      "Epoch 21/80\n",
      "8/8 - 0s - loss: 50.7769 - mape: 50.7769 - val_loss: 55.6861 - val_mape: 55.6861 - 14ms/epoch - 2ms/step\n",
      "Epoch 22/80\n",
      "8/8 - 0s - loss: 49.1242 - mape: 49.1242 - val_loss: 54.2054 - val_mape: 54.2054 - 13ms/epoch - 2ms/step\n",
      "Epoch 23/80\n",
      "8/8 - 0s - loss: 47.4311 - mape: 47.4311 - val_loss: 52.8010 - val_mape: 52.8010 - 13ms/epoch - 2ms/step\n",
      "Epoch 24/80\n",
      "8/8 - 0s - loss: 45.8626 - mape: 45.8626 - val_loss: 51.4237 - val_mape: 51.4237 - 13ms/epoch - 2ms/step\n",
      "Epoch 25/80\n",
      "8/8 - 0s - loss: 44.2607 - mape: 44.2607 - val_loss: 50.0208 - val_mape: 50.0208 - 14ms/epoch - 2ms/step\n",
      "Epoch 26/80\n",
      "8/8 - 0s - loss: 42.7305 - mape: 42.7305 - val_loss: 48.6040 - val_mape: 48.6040 - 13ms/epoch - 2ms/step\n",
      "Epoch 27/80\n",
      "8/8 - 0s - loss: 41.1226 - mape: 41.1226 - val_loss: 47.1570 - val_mape: 47.1570 - 13ms/epoch - 2ms/step\n",
      "Epoch 28/80\n",
      "8/8 - 0s - loss: 39.6004 - mape: 39.6004 - val_loss: 45.6478 - val_mape: 45.6478 - 13ms/epoch - 2ms/step\n",
      "Epoch 29/80\n",
      "8/8 - 0s - loss: 38.0247 - mape: 38.0247 - val_loss: 44.3062 - val_mape: 44.3062 - 13ms/epoch - 2ms/step\n",
      "Epoch 30/80\n",
      "8/8 - 0s - loss: 36.4923 - mape: 36.4923 - val_loss: 42.8998 - val_mape: 42.8998 - 13ms/epoch - 2ms/step\n",
      "Epoch 31/80\n",
      "8/8 - 0s - loss: 34.9240 - mape: 34.9240 - val_loss: 41.5918 - val_mape: 41.5918 - 14ms/epoch - 2ms/step\n",
      "Epoch 32/80\n",
      "8/8 - 0s - loss: 33.5090 - mape: 33.5090 - val_loss: 40.2378 - val_mape: 40.2378 - 13ms/epoch - 2ms/step\n",
      "Epoch 33/80\n",
      "8/8 - 0s - loss: 32.0706 - mape: 32.0706 - val_loss: 38.7583 - val_mape: 38.7583 - 13ms/epoch - 2ms/step\n",
      "Epoch 34/80\n",
      "8/8 - 0s - loss: 30.4040 - mape: 30.4040 - val_loss: 37.5585 - val_mape: 37.5585 - 13ms/epoch - 2ms/step\n",
      "Epoch 35/80\n",
      "8/8 - 0s - loss: 29.0016 - mape: 29.0016 - val_loss: 35.9932 - val_mape: 35.9932 - 13ms/epoch - 2ms/step\n",
      "Epoch 36/80\n",
      "8/8 - 0s - loss: 27.5597 - mape: 27.5597 - val_loss: 34.5480 - val_mape: 34.5480 - 13ms/epoch - 2ms/step\n",
      "Epoch 37/80\n",
      "8/8 - 0s - loss: 26.1502 - mape: 26.1502 - val_loss: 32.9759 - val_mape: 32.9759 - 13ms/epoch - 2ms/step\n",
      "Epoch 38/80\n",
      "8/8 - 0s - loss: 24.7977 - mape: 24.7977 - val_loss: 31.5400 - val_mape: 31.5400 - 16ms/epoch - 2ms/step\n",
      "Epoch 39/80\n",
      "8/8 - 0s - loss: 23.4812 - mape: 23.4812 - val_loss: 30.1080 - val_mape: 30.1080 - 14ms/epoch - 2ms/step\n",
      "Epoch 40/80\n",
      "8/8 - 0s - loss: 22.2730 - mape: 22.2730 - val_loss: 28.6616 - val_mape: 28.6616 - 13ms/epoch - 2ms/step\n",
      "Epoch 41/80\n",
      "8/8 - 0s - loss: 20.9545 - mape: 20.9545 - val_loss: 26.9688 - val_mape: 26.9688 - 13ms/epoch - 2ms/step\n",
      "Epoch 42/80\n",
      "8/8 - 0s - loss: 19.7067 - mape: 19.7067 - val_loss: 25.4897 - val_mape: 25.4897 - 13ms/epoch - 2ms/step\n",
      "Epoch 43/80\n",
      "8/8 - 0s - loss: 18.6005 - mape: 18.6005 - val_loss: 23.9593 - val_mape: 23.9593 - 13ms/epoch - 2ms/step\n",
      "Epoch 44/80\n",
      "8/8 - 0s - loss: 17.4375 - mape: 17.4375 - val_loss: 22.2891 - val_mape: 22.2891 - 13ms/epoch - 2ms/step\n",
      "Epoch 45/80\n",
      "8/8 - 0s - loss: 16.3691 - mape: 16.3691 - val_loss: 20.7867 - val_mape: 20.7867 - 13ms/epoch - 2ms/step\n",
      "Epoch 46/80\n",
      "8/8 - 0s - loss: 15.3390 - mape: 15.3390 - val_loss: 19.3906 - val_mape: 19.3906 - 14ms/epoch - 2ms/step\n",
      "Epoch 47/80\n",
      "8/8 - 0s - loss: 14.3227 - mape: 14.3227 - val_loss: 17.8446 - val_mape: 17.8446 - 15ms/epoch - 2ms/step\n",
      "Epoch 48/80\n",
      "8/8 - 0s - loss: 13.5352 - mape: 13.5352 - val_loss: 16.4899 - val_mape: 16.4899 - 14ms/epoch - 2ms/step\n",
      "Epoch 49/80\n",
      "8/8 - 0s - loss: 12.8691 - mape: 12.8691 - val_loss: 15.5059 - val_mape: 15.5059 - 14ms/epoch - 2ms/step\n",
      "Epoch 50/80\n",
      "8/8 - 0s - loss: 12.4146 - mape: 12.4146 - val_loss: 14.8225 - val_mape: 14.8225 - 15ms/epoch - 2ms/step\n",
      "Epoch 51/80\n",
      "8/8 - 0s - loss: 12.0163 - mape: 12.0163 - val_loss: 14.0191 - val_mape: 14.0191 - 13ms/epoch - 2ms/step\n",
      "Epoch 52/80\n",
      "8/8 - 0s - loss: 11.8197 - mape: 11.8197 - val_loss: 13.6419 - val_mape: 13.6419 - 13ms/epoch - 2ms/step\n",
      "Epoch 53/80\n",
      "8/8 - 0s - loss: 11.3455 - mape: 11.3455 - val_loss: 12.9986 - val_mape: 12.9986 - 13ms/epoch - 2ms/step\n",
      "Epoch 54/80\n",
      "8/8 - 0s - loss: 11.2195 - mape: 11.2195 - val_loss: 12.6014 - val_mape: 12.6014 - 13ms/epoch - 2ms/step\n",
      "Epoch 55/80\n",
      "8/8 - 0s - loss: 10.9916 - mape: 10.9916 - val_loss: 12.1357 - val_mape: 12.1357 - 14ms/epoch - 2ms/step\n",
      "Epoch 56/80\n",
      "8/8 - 0s - loss: 10.8372 - mape: 10.8372 - val_loss: 12.0172 - val_mape: 12.0172 - 14ms/epoch - 2ms/step\n",
      "Epoch 57/80\n",
      "8/8 - 0s - loss: 10.7962 - mape: 10.7962 - val_loss: 11.8927 - val_mape: 11.8927 - 13ms/epoch - 2ms/step\n",
      "Epoch 58/80\n",
      "8/8 - 0s - loss: 10.7948 - mape: 10.7948 - val_loss: 11.7085 - val_mape: 11.7085 - 13ms/epoch - 2ms/step\n",
      "Epoch 59/80\n",
      "8/8 - 0s - loss: 10.7519 - mape: 10.7519 - val_loss: 11.5940 - val_mape: 11.5940 - 13ms/epoch - 2ms/step\n",
      "Epoch 60/80\n",
      "8/8 - 0s - loss: 10.5702 - mape: 10.5702 - val_loss: 11.5385 - val_mape: 11.5385 - 13ms/epoch - 2ms/step\n",
      "Epoch 61/80\n",
      "8/8 - 0s - loss: 10.6434 - mape: 10.6434 - val_loss: 11.5857 - val_mape: 11.5857 - 13ms/epoch - 2ms/step\n",
      "Epoch 62/80\n",
      "8/8 - 0s - loss: 10.5412 - mape: 10.5412 - val_loss: 11.4828 - val_mape: 11.4828 - 14ms/epoch - 2ms/step\n",
      "Epoch 63/80\n",
      "8/8 - 0s - loss: 10.5115 - mape: 10.5115 - val_loss: 11.3617 - val_mape: 11.3617 - 14ms/epoch - 2ms/step\n",
      "Epoch 64/80\n",
      "8/8 - 0s - loss: 10.4394 - mape: 10.4394 - val_loss: 11.3471 - val_mape: 11.3471 - 13ms/epoch - 2ms/step\n",
      "Epoch 65/80\n",
      "8/8 - 0s - loss: 10.4845 - mape: 10.4845 - val_loss: 11.2897 - val_mape: 11.2897 - 13ms/epoch - 2ms/step\n",
      "Epoch 66/80\n",
      "8/8 - 0s - loss: 10.3842 - mape: 10.3842 - val_loss: 11.1805 - val_mape: 11.1805 - 13ms/epoch - 2ms/step\n",
      "Epoch 67/80\n",
      "8/8 - 0s - loss: 10.3780 - mape: 10.3780 - val_loss: 11.2011 - val_mape: 11.2011 - 13ms/epoch - 2ms/step\n",
      "Epoch 68/80\n",
      "8/8 - 0s - loss: 10.4040 - mape: 10.4040 - val_loss: 11.1804 - val_mape: 11.1804 - 13ms/epoch - 2ms/step\n",
      "Epoch 69/80\n",
      "8/8 - 0s - loss: 10.3995 - mape: 10.3995 - val_loss: 11.1241 - val_mape: 11.1241 - 13ms/epoch - 2ms/step\n",
      "Epoch 70/80\n",
      "8/8 - 0s - loss: 10.4056 - mape: 10.4056 - val_loss: 11.1146 - val_mape: 11.1146 - 13ms/epoch - 2ms/step\n",
      "Epoch 71/80\n",
      "8/8 - 0s - loss: 10.3565 - mape: 10.3565 - val_loss: 11.0503 - val_mape: 11.0503 - 13ms/epoch - 2ms/step\n",
      "Epoch 72/80\n",
      "8/8 - 0s - loss: 10.3316 - mape: 10.3316 - val_loss: 11.0030 - val_mape: 11.0030 - 13ms/epoch - 2ms/step\n",
      "Epoch 73/80\n",
      "8/8 - 0s - loss: 10.3214 - mape: 10.3214 - val_loss: 10.9945 - val_mape: 10.9945 - 13ms/epoch - 2ms/step\n",
      "Epoch 74/80\n",
      "8/8 - 0s - loss: 10.3472 - mape: 10.3472 - val_loss: 10.9773 - val_mape: 10.9773 - 14ms/epoch - 2ms/step\n",
      "Epoch 75/80\n",
      "8/8 - 0s - loss: 10.3754 - mape: 10.3754 - val_loss: 10.9896 - val_mape: 10.9896 - 14ms/epoch - 2ms/step\n",
      "Epoch 76/80\n",
      "8/8 - 0s - loss: 10.3321 - mape: 10.3321 - val_loss: 10.9399 - val_mape: 10.9399 - 13ms/epoch - 2ms/step\n",
      "Epoch 77/80\n",
      "8/8 - 0s - loss: 10.3921 - mape: 10.3921 - val_loss: 10.9191 - val_mape: 10.9191 - 13ms/epoch - 2ms/step\n",
      "Epoch 78/80\n",
      "8/8 - 0s - loss: 10.3152 - mape: 10.3152 - val_loss: 10.9259 - val_mape: 10.9259 - 14ms/epoch - 2ms/step\n",
      "Epoch 79/80\n",
      "8/8 - 0s - loss: 10.4081 - mape: 10.4081 - val_loss: 10.8896 - val_mape: 10.8896 - 13ms/epoch - 2ms/step\n",
      "Epoch 80/80\n",
      "8/8 - 0s - loss: 10.3391 - mape: 10.3391 - val_loss: 10.9127 - val_mape: 10.9127 - 210ms/epoch - 26ms/step\n"
     ]
    },
    {
     "data": {
      "image/png": "[encoded data removed]",
      "text/plain": [
       "<Figure size 1296x432 with 2 Axes>"
      ]
     },
     "metadata": {
      "needs_background": "light"
     },
     "output_type": "display_data"
    }
   ],
   "source": [
    "linear_model = tf.keras.Sequential([\n",
    "    normalizer,\n",
    "    layers.Dense(units=1, activation=None)\n",
    "])\n",
    "linear_model.compile(\n",
    "    optimizer=tf.optimizers.Adam(learning_rate=0.06),\n",
    "    loss='mape', metrics=[\"mape\"])\n",
    "\n",
    "history = linear_model.fit(\n",
    "    train_features,\n",
    "    train_labels,\n",
    "    verbose=2,\n",
    "    epochs=80,  \n",
    "    validation_split = 0.2)\n",
    "\n",
    "plot_history(history)"
   ]
  },
  {
   "cell_type": "markdown",
   "metadata": {},
   "source": [
    "## Get Predictions on Test Set\n",
    "\n",
    "Get predictions on the test set, compare with original labels"
   ]
  },
  {
   "cell_type": "code",
   "execution_count": 30,
   "metadata": {
    "colab": {
     "base_uri": "https://localhost:8080/",
     "height": 424
    },
    "id": "PJhGhso7xajk",
    "outputId": "82ab0961-8ab2-42c2-9a64-d2abdfc06589"
   },
   "outputs": [
    {
     "name": "stdout",
     "output_type": "stream",
     "text": [
      "Mean Percentage difference 10.667307692307693\n"
     ]
    },
    {
     "data": {
      "text/html": [
       "<div>\n",
       "<style scoped>\n",
       "    .dataframe tbody tr th:only-of-type {\n",
       "        vertical-align: middle;\n",
       "    }\n",
       "\n",
       "    .dataframe tbody tr th {\n",
       "        vertical-align: top;\n",
       "    }\n",
       "\n",
       "    .dataframe thead th {\n",
       "        text-align: right;\n",
       "    }\n",
       "</style>\n",
       "<table border=\"1\" class=\"dataframe\">\n",
       "  <thead>\n",
       "    <tr style=\"text-align: right;\">\n",
       "      <th></th>\n",
       "      <th>Original MPG</th>\n",
       "      <th>Predicted MPG</th>\n",
       "      <th>Percentage Difference</th>\n",
       "    </tr>\n",
       "  </thead>\n",
       "  <tbody>\n",
       "    <tr>\n",
       "      <th>0</th>\n",
       "      <td>15.0</td>\n",
       "      <td>13.994864</td>\n",
       "      <td>6.70</td>\n",
       "    </tr>\n",
       "    <tr>\n",
       "      <th>1</th>\n",
       "      <td>10.0</td>\n",
       "      <td>9.169682</td>\n",
       "      <td>8.30</td>\n",
       "    </tr>\n",
       "    <tr>\n",
       "      <th>2</th>\n",
       "      <td>9.0</td>\n",
       "      <td>8.085903</td>\n",
       "      <td>10.16</td>\n",
       "    </tr>\n",
       "    <tr>\n",
       "      <th>3</th>\n",
       "      <td>25.0</td>\n",
       "      <td>26.942274</td>\n",
       "      <td>7.77</td>\n",
       "    </tr>\n",
       "    <tr>\n",
       "      <th>4</th>\n",
       "      <td>19.0</td>\n",
       "      <td>20.761478</td>\n",
       "      <td>9.27</td>\n",
       "    </tr>\n",
       "    <tr>\n",
       "      <th>...</th>\n",
       "      <td>...</td>\n",
       "      <td>...</td>\n",
       "      <td>...</td>\n",
       "    </tr>\n",
       "    <tr>\n",
       "      <th>73</th>\n",
       "      <td>34.0</td>\n",
       "      <td>27.459240</td>\n",
       "      <td>19.24</td>\n",
       "    </tr>\n",
       "    <tr>\n",
       "      <th>74</th>\n",
       "      <td>36.0</td>\n",
       "      <td>31.069176</td>\n",
       "      <td>13.70</td>\n",
       "    </tr>\n",
       "    <tr>\n",
       "      <th>75</th>\n",
       "      <td>34.0</td>\n",
       "      <td>32.358032</td>\n",
       "      <td>4.83</td>\n",
       "    </tr>\n",
       "    <tr>\n",
       "      <th>76</th>\n",
       "      <td>32.0</td>\n",
       "      <td>33.842533</td>\n",
       "      <td>5.76</td>\n",
       "    </tr>\n",
       "    <tr>\n",
       "      <th>77</th>\n",
       "      <td>28.0</td>\n",
       "      <td>26.766687</td>\n",
       "      <td>4.40</td>\n",
       "    </tr>\n",
       "  </tbody>\n",
       "</table>\n",
       "<p>78 rows × 3 columns</p>\n",
       "</div>"
      ],
      "text/plain": [
       "    Original MPG  Predicted MPG  Percentage Difference\n",
       "0           15.0      13.994864                   6.70\n",
       "1           10.0       9.169682                   8.30\n",
       "2            9.0       8.085903                  10.16\n",
       "3           25.0      26.942274                   7.77\n",
       "4           19.0      20.761478                   9.27\n",
       "..           ...            ...                    ...\n",
       "73          34.0      27.459240                  19.24\n",
       "74          36.0      31.069176                  13.70\n",
       "75          34.0      32.358032                   4.83\n",
       "76          32.0      33.842533                   5.76\n",
       "77          28.0      26.766687                   4.40\n",
       "\n",
       "[78 rows x 3 columns]"
      ]
     },
     "execution_count": 30,
     "metadata": {},
     "output_type": "execute_result"
    }
   ],
   "source": [
    "predictions = linear_model.predict(test_features) \n",
    "test_preds= pd.DataFrame({\"Original MPG\": list(test_labels), \"Predicted MPG\": list(predictions.reshape(-1))})\n",
    "test_preds[\"Percentage Difference\"] = round(( abs(test_preds[\"Original MPG\"] - test_preds[ \"Predicted MPG\"]) / test_preds[\"Original MPG\"])*100 ,2)\n",
    "print(\"Mean Percentage difference\", test_preds[\"Percentage Difference\"].mean())\n",
    "test_preds"
   ]
  },
  {
   "cell_type": "code",
   "execution_count": 25,
   "metadata": {},
   "outputs": [
    {
     "name": "stdout",
     "output_type": "stream",
     "text": [
      "Mean difference 7.834871794871792\n"
     ]
    }
   ],
   "source": []
  },
  {
   "cell_type": "code",
   "execution_count": 8,
   "metadata": {
    "colab": {
     "base_uri": "https://localhost:8080/",
     "height": 405
    },
    "id": "m3dwNxNUxbpr",
    "outputId": "5f6293c7-4d72-40dd-b9f2-4ad374f7815a"
   },
   "outputs": [
    {
     "data": {
      "image/png": "[encoded data removed]",
      "text/plain": [
       "<Figure size 1296x432 with 1 Axes>"
      ]
     },
     "metadata": {
      "needs_background": "light"
     },
     "output_type": "display_data"
    }
   ],
   "source": [
    "plt.figure(figsize=(18,6))\n",
    "plt.hist(test_preds[\"Percentage Difference\"], bins=40);\n",
    "plt.title(\"Histogram of Mean Absolute Error\");"
   ]
  },
  {
   "cell_type": "code",
   "execution_count": 9,
   "metadata": {},
   "outputs": [
    {
     "name": "stdout",
     "output_type": "stream",
     "text": [
      "INFO:tensorflow:Assets written to: models/tf_intro/saved_model/assets\n"
     ]
    },
    {
     "name": "stderr",
     "output_type": "stream",
     "text": [
      "2022-11-03 03:39:58.284187: W tensorflow/python/util/util.cc:368] Sets are not currently considered sequences, but this may change in the future, so consider avoiding using them.\n"
     ]
    }
   ],
   "source": [
    "linear_model.save('models/tf_intro/saved_model')"
   ]
  },
  {
   "cell_type": "markdown",
   "metadata": {},
   "source": [
    "## Convert to Tensorflow Lite \n",
    "\n",
    "In this section, we will explore how to convert the model to a tensorflow.lite model. \n",
    "The exported model can then be imported in an android app. "
   ]
  },
  {
   "cell_type": "code",
   "execution_count": 10,
   "metadata": {},
   "outputs": [
    {
     "name": "stdout",
     "output_type": "stream",
     "text": [
      "INFO:tensorflow:Assets written to: /var/folders/c4/vw74f9k1217fcbnwv4tttgn40000gn/T/tmpns5dn5md/assets\n"
     ]
    },
    {
     "name": "stderr",
     "output_type": "stream",
     "text": [
      "2022-11-03 03:40:10.022926: W tensorflow/compiler/mlir/lite/python/tf_tfl_flatbuffer_helpers.cc:357] Ignored output_format.\n",
      "2022-11-03 03:40:10.022946: W tensorflow/compiler/mlir/lite/python/tf_tfl_flatbuffer_helpers.cc:360] Ignored drop_control_dependency.\n",
      "WARNING:absl:Buffer deduplication procedure will be skipped when flatbuffer library is not properly loaded\n",
      "2022-11-03 03:40:10.023444: I tensorflow/cc/saved_model/reader.cc:43] Reading SavedModel from: /var/folders/c4/vw74f9k1217fcbnwv4tttgn40000gn/T/tmpns5dn5md\n",
      "2022-11-03 03:40:10.024010: I tensorflow/cc/saved_model/reader.cc:78] Reading meta graph with tags { serve }\n",
      "2022-11-03 03:40:10.024015: I tensorflow/cc/saved_model/reader.cc:119] Reading SavedModel debug info (if present) from: /var/folders/c4/vw74f9k1217fcbnwv4tttgn40000gn/T/tmpns5dn5md\n",
      "2022-11-03 03:40:10.026222: I tensorflow/cc/saved_model/loader.cc:228] Restoring SavedModel bundle.\n",
      "2022-11-03 03:40:10.047508: I tensorflow/cc/saved_model/loader.cc:212] Running initialization op on SavedModel bundle at path: /var/folders/c4/vw74f9k1217fcbnwv4tttgn40000gn/T/tmpns5dn5md\n",
      "2022-11-03 03:40:10.054438: I tensorflow/cc/saved_model/loader.cc:301] SavedModel load for tags { serve }; Status: success: OK. Took 30995 microseconds.\n",
      "2022-11-03 03:40:10.066047: I tensorflow/compiler/mlir/tensorflow/utils/dump_mlir_util.cc:237] disabling MLIR crash reproducer, set env var `MLIR_CRASH_REPRODUCER_DIRECTORY` to enable.\n"
     ]
    }
   ],
   "source": [
    "# Convert the model.\n",
    "converter = tf.lite.TFLiteConverter.from_keras_model(linear_model)\n",
    "tflite_model = converter.convert()\n",
    "\n",
    "# Save the model.\n",
    "with open('models/tf_intro/cars.tflite', 'wb') as f:\n",
    "  f.write(tflite_model)"
   ]
  },
  {
   "cell_type": "code",
   "execution_count": null,
   "metadata": {},
   "outputs": [],
   "source": []
  }
 ],
 "metadata": {
  "accelerator": "GPU",
  "colab": {
   "name": "Introduction to Tensorflow.ipynb",
   "provenance": []
  },
  "interpreter": {
   "hash": "b0fa6594d8f4cbf19f97940f81e996739fb7646882a419484c72d19e05852a7e"
  },
  "kernelspec": {
   "display_name": "Python 3.9.10 64-bit",
   "language": "python",
   "name": "python3"
  },
  "language_info": {
   "codemirror_mode": {
    "name": "ipython",
    "version": 3
   },
   "file_extension": ".py",
   "mimetype": "text/x-python",
   "name": "python",
   "nbconvert_exporter": "python",
   "pygments_lexer": "ipython3",
   "version": "3.9.12"
  }
 },
 "nbformat": 4,
 "nbformat_minor": 4
}
