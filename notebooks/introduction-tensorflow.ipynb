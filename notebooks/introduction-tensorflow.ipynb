{
 "cells": [
  {
   "cell_type": "markdown",
   "metadata": {
    "id": "tPkN6jDkixiV"
   },
   "source": [
    "# Introduction to Tensorflow\n",
    "\n",
    "- Simple linear regression with Tensorflow.\n",
    "  - Fit a linear regression line \n",
    "- Export the model to tensorflow lite."
   ]
  },
  {
   "cell_type": "code",
   "execution_count": 1,
   "metadata": {
    "colab": {
     "base_uri": "https://localhost:8080/"
    },
    "id": "UW9no2e2ocVy",
    "outputId": "4f9c95eb-c38a-4b8f-d1ec-78cbfaf6acf5"
   },
   "outputs": [
    {
     "name": "stderr",
     "output_type": "stream",
     "text": [
      "/opt/homebrew/lib/python3.9/site-packages/h5py/__init__.py:36: UserWarning: h5py is running against HDF5 1.12.2 when it was built against 1.12.1, this may cause problems\n",
      "  _warn((\"h5py is running against HDF5 {0} when it was built against {1}, \"\n"
     ]
    },
    {
     "name": "stdout",
     "output_type": "stream",
     "text": [
      "2.8.0\n"
     ]
    }
   ],
   "source": [
    "# ! pip install -q seaborn tensorflow_hub\n",
    "import matplotlib.pyplot as plt\n",
    "import numpy as np\n",
    "import pandas as pd\n",
    "import seaborn as sns\n",
    "import requests\n",
    "\n",
    "# Make NumPy printouts easier to read.\n",
    "np.set_printoptions(precision=3, suppress=True)\n",
    "\n",
    "import tensorflow as tf\n",
    "from tensorflow import keras\n",
    "from tensorflow.keras import layers\n",
    "\n",
    "print(tf.__version__)"
   ]
  },
  {
   "cell_type": "markdown",
   "metadata": {},
   "source": [
    "## Utility Functions\n",
    "\n",
    "Implement a few utility functions which we will use across the notebook"
   ]
  },
  {
   "cell_type": "code",
   "execution_count": 2,
   "metadata": {
    "id": "VAiNR_Zyyti1"
   },
   "outputs": [],
   "source": [
    "# plot model training history\n",
    "def plot_history(history):\n",
    "    \n",
    "    metrics =  [x for x in history.history.keys() if \"val\" not in x]\n",
    "    # metrics = list(history.history.keys())\n",
    "    ncols = 2\n",
    "    nrows = int(np.ceil(len(metrics)/ncols))  \n",
    "    fig, ax = plt.subplots(nrows=nrows, ncols=ncols, figsize=(18,nrows*6) )\n",
    "    fig.suptitle(f\"Model Training History\" )\n",
    "    i = 0 \n",
    "    if ax.ndim == 1:\n",
    "        ax = ax.reshape(ax.shape[0],1) \n",
    "    for row in ax:\n",
    "        for col in row:\n",
    "            col.plot(history.history[metrics[i]])\n",
    "            col.plot(history.history[\"val_\"+metrics[i]])\n",
    "            col.set_xlabel(\"Epoch\")\n",
    "            col.set_ylabel(f\"{metrics[i]}\")\n",
    "            col.legend(['train', 'val'], loc='upper right')\n",
    "            col.title.set_text(f\"{metrics[i]}\")\n",
    "            i += 1\n",
    "    plt.tight_layout()\n",
    "    plt.rcParams.update({'font.size': 18})  \n",
    "    \n",
    "    plt.show()\n",
    "\n",
    "# download data file\n",
    "def download_file(url): \n",
    "  download_path = f'/tmp/{url.split(\"/\")[-1]}'\n",
    "  results = requests.get(url)\n",
    "  with open(download_path, 'wb') as f:\n",
    "      f.write(results.content)\n",
    "  return download_path"
   ]
  },
  {
   "cell_type": "markdown",
   "metadata": {
    "id": "s9678S13s7qc"
   },
   "source": [
    "## Linear Regression with Tensorflow \n",
    "\n",
    "Based on Tensorflow tutorial [here](https://github.com/tensorflow/docs/blob/master/site/en/tutorials/keras/regression.ipynb).\n",
    "- Download the MPG Dataset \n",
    "- Build a neural network model to predict Miles Per Gallon for a car, given its properties."
   ]
  },
  {
   "cell_type": "code",
   "execution_count": 3,
   "metadata": {
    "id": "MuN12Nfjsts6"
   },
   "outputs": [
    {
     "name": "stderr",
     "output_type": "stream",
     "text": [
      "2022-11-03 03:39:10.578331: W tensorflow/core/platform/profile_utils/cpu_utils.cc:128] Failed to get CPU frequency: 0 Hz\n"
     ]
    }
   ],
   "source": [
    "# download CSV\n",
    "url = 'http://archive.ics.uci.edu/ml/machine-learning-databases/auto-mpg/auto-mpg.data'\n",
    "column_names = ['MPG', 'Cylinders', 'Displacement', 'Horsepower', 'Weight',\n",
    "                'Acceleration', 'Model Year', 'Origin']\n",
    "\n",
    "# Read csv file using pandas\n",
    "raw_dataset = pd.read_csv(url, names=column_names,\n",
    "                          na_values='?', comment='\\t',\n",
    "                          sep=' ', skipinitialspace=True)\n",
    "dataset = raw_dataset.copy()\n",
    "dataset = dataset.dropna()\n",
    "\n",
    "# Preprocessing to replace car origin field one hot encoded variables\n",
    "dataset['Origin'] = dataset['Origin'].map({1: 'USA', 2: 'Europe', 3: 'Japan'})\n",
    "dataset = pd.get_dummies(dataset, columns=['Origin'], prefix='', prefix_sep='')\n",
    "\n",
    "# Split dataset into train and test split\n",
    "train_dataset = dataset.sample(frac=0.8, random_state=0)\n",
    "test_dataset = dataset.drop(train_dataset.index)\n",
    "\n",
    "train_features = train_dataset.copy()\n",
    "test_features = test_dataset.copy()\n",
    "\n",
    "train_labels = train_features.pop('MPG')\n",
    "test_labels = test_features.pop('MPG')\n",
    "\n",
    "\n",
    "# Build a feature normalization layer. Fit it on train data only\n",
    "normalizer = tf.keras.layers.Normalization(axis=-1, input_shape=(train_features.shape[1],))\n",
    "normalizer.adapt(np.array(train_features))\n"
   ]
  },
  {
   "cell_type": "code",
   "execution_count": 4,
   "metadata": {
    "colab": {
     "base_uri": "https://localhost:8080/",
     "height": 424
    },
    "id": "9MBjpcRttKo5",
    "outputId": "22a2fcae-59a7-40ac-a15d-908752d608ec"
   },
   "outputs": [
    {
     "data": {
      "text/html": [
       "<div>\n",
       "<style scoped>\n",
       "    .dataframe tbody tr th:only-of-type {\n",
       "        vertical-align: middle;\n",
       "    }\n",
       "\n",
       "    .dataframe tbody tr th {\n",
       "        vertical-align: top;\n",
       "    }\n",
       "\n",
       "    .dataframe thead th {\n",
       "        text-align: right;\n",
       "    }\n",
       "</style>\n",
       "<table border=\"1\" class=\"dataframe\">\n",
       "  <thead>\n",
       "    <tr style=\"text-align: right;\">\n",
       "      <th></th>\n",
       "      <th>MPG</th>\n",
       "      <th>Cylinders</th>\n",
       "      <th>Displacement</th>\n",
       "      <th>Horsepower</th>\n",
       "      <th>Weight</th>\n",
       "      <th>Acceleration</th>\n",
       "      <th>Model Year</th>\n",
       "      <th>Europe</th>\n",
       "      <th>Japan</th>\n",
       "      <th>USA</th>\n",
       "    </tr>\n",
       "  </thead>\n",
       "  <tbody>\n",
       "    <tr>\n",
       "      <th>0</th>\n",
       "      <td>18.0</td>\n",
       "      <td>8</td>\n",
       "      <td>307.0</td>\n",
       "      <td>130.0</td>\n",
       "      <td>3504.0</td>\n",
       "      <td>12.0</td>\n",
       "      <td>70</td>\n",
       "      <td>0</td>\n",
       "      <td>0</td>\n",
       "      <td>1</td>\n",
       "    </tr>\n",
       "    <tr>\n",
       "      <th>1</th>\n",
       "      <td>15.0</td>\n",
       "      <td>8</td>\n",
       "      <td>350.0</td>\n",
       "      <td>165.0</td>\n",
       "      <td>3693.0</td>\n",
       "      <td>11.5</td>\n",
       "      <td>70</td>\n",
       "      <td>0</td>\n",
       "      <td>0</td>\n",
       "      <td>1</td>\n",
       "    </tr>\n",
       "    <tr>\n",
       "      <th>2</th>\n",
       "      <td>18.0</td>\n",
       "      <td>8</td>\n",
       "      <td>318.0</td>\n",
       "      <td>150.0</td>\n",
       "      <td>3436.0</td>\n",
       "      <td>11.0</td>\n",
       "      <td>70</td>\n",
       "      <td>0</td>\n",
       "      <td>0</td>\n",
       "      <td>1</td>\n",
       "    </tr>\n",
       "    <tr>\n",
       "      <th>3</th>\n",
       "      <td>16.0</td>\n",
       "      <td>8</td>\n",
       "      <td>304.0</td>\n",
       "      <td>150.0</td>\n",
       "      <td>3433.0</td>\n",
       "      <td>12.0</td>\n",
       "      <td>70</td>\n",
       "      <td>0</td>\n",
       "      <td>0</td>\n",
       "      <td>1</td>\n",
       "    </tr>\n",
       "    <tr>\n",
       "      <th>4</th>\n",
       "      <td>17.0</td>\n",
       "      <td>8</td>\n",
       "      <td>302.0</td>\n",
       "      <td>140.0</td>\n",
       "      <td>3449.0</td>\n",
       "      <td>10.5</td>\n",
       "      <td>70</td>\n",
       "      <td>0</td>\n",
       "      <td>0</td>\n",
       "      <td>1</td>\n",
       "    </tr>\n",
       "    <tr>\n",
       "      <th>...</th>\n",
       "      <td>...</td>\n",
       "      <td>...</td>\n",
       "      <td>...</td>\n",
       "      <td>...</td>\n",
       "      <td>...</td>\n",
       "      <td>...</td>\n",
       "      <td>...</td>\n",
       "      <td>...</td>\n",
       "      <td>...</td>\n",
       "      <td>...</td>\n",
       "    </tr>\n",
       "    <tr>\n",
       "      <th>393</th>\n",
       "      <td>27.0</td>\n",
       "      <td>4</td>\n",
       "      <td>140.0</td>\n",
       "      <td>86.0</td>\n",
       "      <td>2790.0</td>\n",
       "      <td>15.6</td>\n",
       "      <td>82</td>\n",
       "      <td>0</td>\n",
       "      <td>0</td>\n",
       "      <td>1</td>\n",
       "    </tr>\n",
       "    <tr>\n",
       "      <th>394</th>\n",
       "      <td>44.0</td>\n",
       "      <td>4</td>\n",
       "      <td>97.0</td>\n",
       "      <td>52.0</td>\n",
       "      <td>2130.0</td>\n",
       "      <td>24.6</td>\n",
       "      <td>82</td>\n",
       "      <td>1</td>\n",
       "      <td>0</td>\n",
       "      <td>0</td>\n",
       "    </tr>\n",
       "    <tr>\n",
       "      <th>395</th>\n",
       "      <td>32.0</td>\n",
       "      <td>4</td>\n",
       "      <td>135.0</td>\n",
       "      <td>84.0</td>\n",
       "      <td>2295.0</td>\n",
       "      <td>11.6</td>\n",
       "      <td>82</td>\n",
       "      <td>0</td>\n",
       "      <td>0</td>\n",
       "      <td>1</td>\n",
       "    </tr>\n",
       "    <tr>\n",
       "      <th>396</th>\n",
       "      <td>28.0</td>\n",
       "      <td>4</td>\n",
       "      <td>120.0</td>\n",
       "      <td>79.0</td>\n",
       "      <td>2625.0</td>\n",
       "      <td>18.6</td>\n",
       "      <td>82</td>\n",
       "      <td>0</td>\n",
       "      <td>0</td>\n",
       "      <td>1</td>\n",
       "    </tr>\n",
       "    <tr>\n",
       "      <th>397</th>\n",
       "      <td>31.0</td>\n",
       "      <td>4</td>\n",
       "      <td>119.0</td>\n",
       "      <td>82.0</td>\n",
       "      <td>2720.0</td>\n",
       "      <td>19.4</td>\n",
       "      <td>82</td>\n",
       "      <td>0</td>\n",
       "      <td>0</td>\n",
       "      <td>1</td>\n",
       "    </tr>\n",
       "  </tbody>\n",
       "</table>\n",
       "<p>392 rows × 10 columns</p>\n",
       "</div>"
      ],
      "text/plain": [
       "      MPG  Cylinders  Displacement  Horsepower  Weight  Acceleration  \\\n",
       "0    18.0          8         307.0       130.0  3504.0          12.0   \n",
       "1    15.0          8         350.0       165.0  3693.0          11.5   \n",
       "2    18.0          8         318.0       150.0  3436.0          11.0   \n",
       "3    16.0          8         304.0       150.0  3433.0          12.0   \n",
       "4    17.0          8         302.0       140.0  3449.0          10.5   \n",
       "..    ...        ...           ...         ...     ...           ...   \n",
       "393  27.0          4         140.0        86.0  2790.0          15.6   \n",
       "394  44.0          4          97.0        52.0  2130.0          24.6   \n",
       "395  32.0          4         135.0        84.0  2295.0          11.6   \n",
       "396  28.0          4         120.0        79.0  2625.0          18.6   \n",
       "397  31.0          4         119.0        82.0  2720.0          19.4   \n",
       "\n",
       "     Model Year  Europe  Japan  USA  \n",
       "0            70       0      0    1  \n",
       "1            70       0      0    1  \n",
       "2            70       0      0    1  \n",
       "3            70       0      0    1  \n",
       "4            70       0      0    1  \n",
       "..          ...     ...    ...  ...  \n",
       "393          82       0      0    1  \n",
       "394          82       1      0    0  \n",
       "395          82       0      0    1  \n",
       "396          82       0      0    1  \n",
       "397          82       0      0    1  \n",
       "\n",
       "[392 rows x 10 columns]"
      ]
     },
     "execution_count": 4,
     "metadata": {},
     "output_type": "execute_result"
    }
   ],
   "source": [
    "dataset"
   ]
  },
  {
   "cell_type": "code",
   "execution_count": 23,
   "metadata": {
    "id": "6m6xAZR_tSgs"
   },
   "outputs": [
    {
     "name": "stdout",
     "output_type": "stream",
     "text": [
      "Epoch 1/80\n",
      "8/8 - 0s - loss: 84.5868 - mape: 84.5868 - val_loss: 61.5634 - val_mape: 61.5634 - 224ms/epoch - 28ms/step\n",
      "Epoch 2/80\n",
      "8/8 - 0s - loss: 53.6615 - mape: 53.6615 - val_loss: 37.9232 - val_mape: 37.9232 - 14ms/epoch - 2ms/step\n",
      "Epoch 3/80\n",
      "8/8 - 0s - loss: 31.4271 - mape: 31.4271 - val_loss: 30.1668 - val_mape: 30.1668 - 14ms/epoch - 2ms/step\n",
      "Epoch 4/80\n",
      "8/8 - 0s - loss: 23.3324 - mape: 23.3324 - val_loss: 20.5210 - val_mape: 20.5210 - 15ms/epoch - 2ms/step\n",
      "Epoch 5/80\n",
      "8/8 - 0s - loss: 16.0609 - mape: 16.0609 - val_loss: 17.5507 - val_mape: 17.5507 - 14ms/epoch - 2ms/step\n",
      "Epoch 6/80\n",
      "8/8 - 0s - loss: 13.1630 - mape: 13.1630 - val_loss: 11.6097 - val_mape: 11.6097 - 15ms/epoch - 2ms/step\n",
      "Epoch 7/80\n",
      "8/8 - 0s - loss: 11.2413 - mape: 11.2413 - val_loss: 11.0569 - val_mape: 11.0569 - 15ms/epoch - 2ms/step\n",
      "Epoch 8/80\n",
      "8/8 - 0s - loss: 9.7706 - mape: 9.7706 - val_loss: 9.7412 - val_mape: 9.7412 - 15ms/epoch - 2ms/step\n",
      "Epoch 9/80\n",
      "8/8 - 0s - loss: 9.0379 - mape: 9.0379 - val_loss: 10.7142 - val_mape: 10.7142 - 14ms/epoch - 2ms/step\n",
      "Epoch 10/80\n",
      "8/8 - 0s - loss: 9.3407 - mape: 9.3407 - val_loss: 9.7145 - val_mape: 9.7145 - 15ms/epoch - 2ms/step\n",
      "Epoch 11/80\n",
      "8/8 - 0s - loss: 8.2704 - mape: 8.2704 - val_loss: 9.5988 - val_mape: 9.5988 - 15ms/epoch - 2ms/step\n",
      "Epoch 12/80\n",
      "8/8 - 0s - loss: 8.7466 - mape: 8.7466 - val_loss: 10.4375 - val_mape: 10.4375 - 15ms/epoch - 2ms/step\n",
      "Epoch 13/80\n",
      "8/8 - 0s - loss: 8.3993 - mape: 8.3993 - val_loss: 9.8546 - val_mape: 9.8546 - 15ms/epoch - 2ms/step\n",
      "Epoch 14/80\n",
      "8/8 - 0s - loss: 8.5695 - mape: 8.5695 - val_loss: 10.2973 - val_mape: 10.2973 - 16ms/epoch - 2ms/step\n",
      "Epoch 15/80\n",
      "8/8 - 0s - loss: 8.3178 - mape: 8.3178 - val_loss: 10.0279 - val_mape: 10.0279 - 14ms/epoch - 2ms/step\n",
      "Epoch 16/80\n",
      "8/8 - 0s - loss: 8.5233 - mape: 8.5233 - val_loss: 9.5328 - val_mape: 9.5328 - 14ms/epoch - 2ms/step\n",
      "Epoch 17/80\n",
      "8/8 - 0s - loss: 7.9869 - mape: 7.9869 - val_loss: 9.9742 - val_mape: 9.9742 - 14ms/epoch - 2ms/step\n",
      "Epoch 18/80\n",
      "8/8 - 0s - loss: 7.8320 - mape: 7.8320 - val_loss: 9.5373 - val_mape: 9.5373 - 14ms/epoch - 2ms/step\n",
      "Epoch 19/80\n",
      "8/8 - 0s - loss: 7.6019 - mape: 7.6019 - val_loss: 9.2208 - val_mape: 9.2208 - 13ms/epoch - 2ms/step\n",
      "Epoch 20/80\n",
      "8/8 - 0s - loss: 7.3053 - mape: 7.3053 - val_loss: 9.6811 - val_mape: 9.6811 - 13ms/epoch - 2ms/step\n",
      "Epoch 21/80\n",
      "8/8 - 0s - loss: 7.7518 - mape: 7.7518 - val_loss: 10.1464 - val_mape: 10.1464 - 14ms/epoch - 2ms/step\n",
      "Epoch 22/80\n",
      "8/8 - 0s - loss: 7.6355 - mape: 7.6355 - val_loss: 11.1894 - val_mape: 11.1894 - 14ms/epoch - 2ms/step\n",
      "Epoch 23/80\n",
      "8/8 - 0s - loss: 8.4318 - mape: 8.4318 - val_loss: 10.7627 - val_mape: 10.7627 - 14ms/epoch - 2ms/step\n",
      "Epoch 24/80\n",
      "8/8 - 0s - loss: 8.1936 - mape: 8.1936 - val_loss: 10.0373 - val_mape: 10.0373 - 14ms/epoch - 2ms/step\n",
      "Epoch 25/80\n",
      "8/8 - 0s - loss: 8.1273 - mape: 8.1273 - val_loss: 10.6311 - val_mape: 10.6311 - 14ms/epoch - 2ms/step\n",
      "Epoch 26/80\n",
      "8/8 - 0s - loss: 7.3178 - mape: 7.3178 - val_loss: 9.8970 - val_mape: 9.8970 - 14ms/epoch - 2ms/step\n",
      "Epoch 27/80\n",
      "8/8 - 0s - loss: 7.1928 - mape: 7.1928 - val_loss: 9.9180 - val_mape: 9.9180 - 15ms/epoch - 2ms/step\n",
      "Epoch 28/80\n",
      "8/8 - 0s - loss: 7.3293 - mape: 7.3293 - val_loss: 10.1928 - val_mape: 10.1928 - 14ms/epoch - 2ms/step\n",
      "Epoch 29/80\n",
      "8/8 - 0s - loss: 7.1980 - mape: 7.1980 - val_loss: 9.8697 - val_mape: 9.8697 - 16ms/epoch - 2ms/step\n",
      "Epoch 30/80\n",
      "8/8 - 0s - loss: 7.0720 - mape: 7.0720 - val_loss: 9.5929 - val_mape: 9.5929 - 14ms/epoch - 2ms/step\n",
      "Epoch 31/80\n",
      "8/8 - 0s - loss: 7.1856 - mape: 7.1856 - val_loss: 9.6988 - val_mape: 9.6988 - 14ms/epoch - 2ms/step\n",
      "Epoch 32/80\n",
      "8/8 - 0s - loss: 7.0134 - mape: 7.0134 - val_loss: 10.1446 - val_mape: 10.1446 - 14ms/epoch - 2ms/step\n",
      "Epoch 33/80\n",
      "8/8 - 0s - loss: 7.1715 - mape: 7.1715 - val_loss: 9.4358 - val_mape: 9.4358 - 14ms/epoch - 2ms/step\n",
      "Epoch 34/80\n",
      "8/8 - 0s - loss: 7.0877 - mape: 7.0877 - val_loss: 9.8044 - val_mape: 9.8044 - 13ms/epoch - 2ms/step\n",
      "Epoch 35/80\n",
      "8/8 - 0s - loss: 7.2154 - mape: 7.2154 - val_loss: 10.7062 - val_mape: 10.7062 - 14ms/epoch - 2ms/step\n",
      "Epoch 36/80\n",
      "8/8 - 0s - loss: 7.4782 - mape: 7.4782 - val_loss: 9.7949 - val_mape: 9.7949 - 14ms/epoch - 2ms/step\n",
      "Epoch 37/80\n",
      "8/8 - 0s - loss: 7.0480 - mape: 7.0480 - val_loss: 10.4488 - val_mape: 10.4488 - 14ms/epoch - 2ms/step\n",
      "Epoch 38/80\n",
      "8/8 - 0s - loss: 6.7725 - mape: 6.7725 - val_loss: 9.9327 - val_mape: 9.9327 - 14ms/epoch - 2ms/step\n",
      "Epoch 39/80\n",
      "8/8 - 0s - loss: 6.7946 - mape: 6.7946 - val_loss: 9.8490 - val_mape: 9.8490 - 14ms/epoch - 2ms/step\n",
      "Epoch 40/80\n",
      "8/8 - 0s - loss: 7.3058 - mape: 7.3058 - val_loss: 10.9611 - val_mape: 10.9611 - 14ms/epoch - 2ms/step\n",
      "Epoch 41/80\n",
      "8/8 - 0s - loss: 8.2661 - mape: 8.2661 - val_loss: 9.6196 - val_mape: 9.6196 - 14ms/epoch - 2ms/step\n",
      "Epoch 42/80\n",
      "8/8 - 0s - loss: 7.7681 - mape: 7.7681 - val_loss: 9.2808 - val_mape: 9.2808 - 14ms/epoch - 2ms/step\n",
      "Epoch 43/80\n",
      "8/8 - 0s - loss: 7.1807 - mape: 7.1807 - val_loss: 9.7577 - val_mape: 9.7577 - 14ms/epoch - 2ms/step\n",
      "Epoch 44/80\n",
      "8/8 - 0s - loss: 7.0609 - mape: 7.0609 - val_loss: 10.1940 - val_mape: 10.1940 - 14ms/epoch - 2ms/step\n",
      "Epoch 45/80\n",
      "8/8 - 0s - loss: 7.3102 - mape: 7.3102 - val_loss: 10.0121 - val_mape: 10.0121 - 14ms/epoch - 2ms/step\n",
      "Epoch 46/80\n",
      "8/8 - 0s - loss: 6.8296 - mape: 6.8296 - val_loss: 9.8173 - val_mape: 9.8173 - 14ms/epoch - 2ms/step\n",
      "Epoch 47/80\n",
      "8/8 - 0s - loss: 6.9702 - mape: 6.9702 - val_loss: 10.0735 - val_mape: 10.0735 - 14ms/epoch - 2ms/step\n",
      "Epoch 48/80\n",
      "8/8 - 0s - loss: 6.7603 - mape: 6.7603 - val_loss: 9.6617 - val_mape: 9.6617 - 13ms/epoch - 2ms/step\n",
      "Epoch 49/80\n",
      "8/8 - 0s - loss: 6.9288 - mape: 6.9288 - val_loss: 9.8497 - val_mape: 9.8497 - 14ms/epoch - 2ms/step\n",
      "Epoch 50/80\n",
      "8/8 - 0s - loss: 6.9579 - mape: 6.9579 - val_loss: 9.7130 - val_mape: 9.7130 - 14ms/epoch - 2ms/step\n",
      "Epoch 51/80\n",
      "8/8 - 0s - loss: 6.7746 - mape: 6.7746 - val_loss: 9.7591 - val_mape: 9.7591 - 14ms/epoch - 2ms/step\n",
      "Epoch 52/80\n",
      "8/8 - 0s - loss: 6.9286 - mape: 6.9286 - val_loss: 9.8586 - val_mape: 9.8586 - 14ms/epoch - 2ms/step\n",
      "Epoch 53/80\n",
      "8/8 - 0s - loss: 6.7317 - mape: 6.7317 - val_loss: 9.6524 - val_mape: 9.6524 - 14ms/epoch - 2ms/step\n",
      "Epoch 54/80\n",
      "8/8 - 0s - loss: 6.6086 - mape: 6.6086 - val_loss: 9.6299 - val_mape: 9.6299 - 14ms/epoch - 2ms/step\n",
      "Epoch 55/80\n",
      "8/8 - 0s - loss: 6.5388 - mape: 6.5388 - val_loss: 9.6821 - val_mape: 9.6821 - 14ms/epoch - 2ms/step\n",
      "Epoch 56/80\n",
      "8/8 - 0s - loss: 7.1756 - mape: 7.1756 - val_loss: 9.5887 - val_mape: 9.5887 - 14ms/epoch - 2ms/step\n",
      "Epoch 57/80\n",
      "8/8 - 0s - loss: 6.9537 - mape: 6.9537 - val_loss: 9.4180 - val_mape: 9.4180 - 14ms/epoch - 2ms/step\n",
      "Epoch 58/80\n",
      "8/8 - 0s - loss: 6.7565 - mape: 6.7565 - val_loss: 9.9230 - val_mape: 9.9230 - 14ms/epoch - 2ms/step\n",
      "Epoch 59/80\n",
      "8/8 - 0s - loss: 6.6522 - mape: 6.6522 - val_loss: 10.0981 - val_mape: 10.0981 - 13ms/epoch - 2ms/step\n",
      "Epoch 60/80\n",
      "8/8 - 0s - loss: 6.5985 - mape: 6.5985 - val_loss: 9.5322 - val_mape: 9.5322 - 13ms/epoch - 2ms/step\n",
      "Epoch 61/80\n",
      "8/8 - 0s - loss: 6.5991 - mape: 6.5991 - val_loss: 9.6203 - val_mape: 9.6203 - 14ms/epoch - 2ms/step\n",
      "Epoch 62/80\n",
      "8/8 - 0s - loss: 6.4210 - mape: 6.4210 - val_loss: 9.9734 - val_mape: 9.9734 - 14ms/epoch - 2ms/step\n",
      "Epoch 63/80\n",
      "8/8 - 0s - loss: 6.5670 - mape: 6.5670 - val_loss: 9.4248 - val_mape: 9.4248 - 14ms/epoch - 2ms/step\n",
      "Epoch 64/80\n",
      "8/8 - 0s - loss: 6.5066 - mape: 6.5066 - val_loss: 9.0636 - val_mape: 9.0636 - 13ms/epoch - 2ms/step\n",
      "Epoch 65/80\n",
      "8/8 - 0s - loss: 6.6945 - mape: 6.6945 - val_loss: 10.0214 - val_mape: 10.0214 - 15ms/epoch - 2ms/step\n",
      "Epoch 66/80\n",
      "8/8 - 0s - loss: 6.9059 - mape: 6.9059 - val_loss: 9.6307 - val_mape: 9.6307 - 14ms/epoch - 2ms/step\n",
      "Epoch 67/80\n",
      "8/8 - 0s - loss: 6.7800 - mape: 6.7800 - val_loss: 9.7735 - val_mape: 9.7735 - 14ms/epoch - 2ms/step\n",
      "Epoch 68/80\n",
      "8/8 - 0s - loss: 6.8086 - mape: 6.8086 - val_loss: 10.0927 - val_mape: 10.0927 - 14ms/epoch - 2ms/step\n",
      "Epoch 69/80\n",
      "8/8 - 0s - loss: 6.8576 - mape: 6.8576 - val_loss: 9.5018 - val_mape: 9.5018 - 14ms/epoch - 2ms/step\n",
      "Epoch 70/80\n",
      "8/8 - 0s - loss: 6.6638 - mape: 6.6638 - val_loss: 9.0642 - val_mape: 9.0642 - 14ms/epoch - 2ms/step\n",
      "Epoch 71/80\n",
      "8/8 - 0s - loss: 7.2726 - mape: 7.2726 - val_loss: 10.7292 - val_mape: 10.7292 - 15ms/epoch - 2ms/step\n",
      "Epoch 72/80\n",
      "8/8 - 0s - loss: 6.7757 - mape: 6.7757 - val_loss: 9.8374 - val_mape: 9.8374 - 13ms/epoch - 2ms/step\n",
      "Epoch 73/80\n",
      "8/8 - 0s - loss: 6.2449 - mape: 6.2449 - val_loss: 9.4629 - val_mape: 9.4629 - 14ms/epoch - 2ms/step\n",
      "Epoch 74/80\n",
      "8/8 - 0s - loss: 6.4974 - mape: 6.4974 - val_loss: 9.3332 - val_mape: 9.3332 - 14ms/epoch - 2ms/step\n",
      "Epoch 75/80\n",
      "8/8 - 0s - loss: 7.0731 - mape: 7.0731 - val_loss: 9.7615 - val_mape: 9.7615 - 14ms/epoch - 2ms/step\n",
      "Epoch 76/80\n",
      "8/8 - 0s - loss: 6.7397 - mape: 6.7397 - val_loss: 9.3699 - val_mape: 9.3699 - 14ms/epoch - 2ms/step\n",
      "Epoch 77/80\n",
      "8/8 - 0s - loss: 6.7055 - mape: 6.7055 - val_loss: 9.8270 - val_mape: 9.8270 - 14ms/epoch - 2ms/step\n",
      "Epoch 78/80\n",
      "8/8 - 0s - loss: 6.4810 - mape: 6.4810 - val_loss: 10.0253 - val_mape: 10.0253 - 14ms/epoch - 2ms/step\n",
      "Epoch 79/80\n",
      "8/8 - 0s - loss: 6.3157 - mape: 6.3157 - val_loss: 9.6027 - val_mape: 9.6027 - 15ms/epoch - 2ms/step\n",
      "Epoch 80/80\n",
      "8/8 - 0s - loss: 6.3520 - mape: 6.3520 - val_loss: 9.2080 - val_mape: 9.2080 - 14ms/epoch - 2ms/step\n"
     ]
    },
    {
     "data": {
      "image/png": "[encoded data removed]",
      "text/plain": [
       "<Figure size 1296x432 with 2 Axes>"
      ]
     },
     "metadata": {
      "needs_background": "light"
     },
     "output_type": "display_data"
    }
   ],
   "source": [
    "linear_model = tf.keras.Sequential([\n",
    "    normalizer,\n",
    "    layers.Dense(units=1, activation=None)\n",
    "])\n",
    "linear_model.compile(\n",
    "    optimizer=tf.optimizers.Adam(learning_rate=0.06),\n",
    "    loss='mape', metrics=[\"mape\"])\n",
    "\n",
    "history = linear_model.fit(\n",
    "    train_features,\n",
    "    train_labels,\n",
    "    verbose=2,\n",
    "    epochs=80,  \n",
    "    validation_split = 0.2)\n",
    "\n",
    "plot_history(history)"
   ]
  },
  {
   "cell_type": "markdown",
   "metadata": {},
   "source": [
    "## Get Predictions on Test Set\n",
    "\n",
    "Get predictions on the test set, compare with original labels"
   ]
  },
  {
   "cell_type": "code",
   "execution_count": 17,
   "metadata": {
    "colab": {
     "base_uri": "https://localhost:8080/",
     "height": 424
    },
    "id": "PJhGhso7xajk",
    "outputId": "82ab0961-8ab2-42c2-9a64-d2abdfc06589"
   },
   "outputs": [
    {
     "data": {
      "text/html": [
       "<div>\n",
       "<style scoped>\n",
       "    .dataframe tbody tr th:only-of-type {\n",
       "        vertical-align: middle;\n",
       "    }\n",
       "\n",
       "    .dataframe tbody tr th {\n",
       "        vertical-align: top;\n",
       "    }\n",
       "\n",
       "    .dataframe thead th {\n",
       "        text-align: right;\n",
       "    }\n",
       "</style>\n",
       "<table border=\"1\" class=\"dataframe\">\n",
       "  <thead>\n",
       "    <tr style=\"text-align: right;\">\n",
       "      <th></th>\n",
       "      <th>Original MPG</th>\n",
       "      <th>Predicted MPG</th>\n",
       "      <th>Percentage Difference</th>\n",
       "    </tr>\n",
       "  </thead>\n",
       "  <tbody>\n",
       "    <tr>\n",
       "      <th>0</th>\n",
       "      <td>15.0</td>\n",
       "      <td>0.999187</td>\n",
       "      <td>93.34</td>\n",
       "    </tr>\n",
       "    <tr>\n",
       "      <th>1</th>\n",
       "      <td>10.0</td>\n",
       "      <td>0.999298</td>\n",
       "      <td>90.01</td>\n",
       "    </tr>\n",
       "    <tr>\n",
       "      <th>2</th>\n",
       "      <td>9.0</td>\n",
       "      <td>0.999328</td>\n",
       "      <td>88.90</td>\n",
       "    </tr>\n",
       "    <tr>\n",
       "      <th>3</th>\n",
       "      <td>25.0</td>\n",
       "      <td>0.998684</td>\n",
       "      <td>96.01</td>\n",
       "    </tr>\n",
       "    <tr>\n",
       "      <th>4</th>\n",
       "      <td>19.0</td>\n",
       "      <td>0.998896</td>\n",
       "      <td>94.74</td>\n",
       "    </tr>\n",
       "    <tr>\n",
       "      <th>...</th>\n",
       "      <td>...</td>\n",
       "      <td>...</td>\n",
       "      <td>...</td>\n",
       "    </tr>\n",
       "    <tr>\n",
       "      <th>73</th>\n",
       "      <td>34.0</td>\n",
       "      <td>0.998157</td>\n",
       "      <td>97.06</td>\n",
       "    </tr>\n",
       "    <tr>\n",
       "      <th>74</th>\n",
       "      <td>36.0</td>\n",
       "      <td>0.997497</td>\n",
       "      <td>97.23</td>\n",
       "    </tr>\n",
       "    <tr>\n",
       "      <th>75</th>\n",
       "      <td>34.0</td>\n",
       "      <td>0.997934</td>\n",
       "      <td>97.06</td>\n",
       "    </tr>\n",
       "    <tr>\n",
       "      <th>76</th>\n",
       "      <td>32.0</td>\n",
       "      <td>0.997869</td>\n",
       "      <td>96.88</td>\n",
       "    </tr>\n",
       "    <tr>\n",
       "      <th>77</th>\n",
       "      <td>28.0</td>\n",
       "      <td>0.998253</td>\n",
       "      <td>96.43</td>\n",
       "    </tr>\n",
       "  </tbody>\n",
       "</table>\n",
       "<p>78 rows × 3 columns</p>\n",
       "</div>"
      ],
      "text/plain": [
       "    Original MPG  Predicted MPG  Percentage Difference\n",
       "0           15.0       0.999187                  93.34\n",
       "1           10.0       0.999298                  90.01\n",
       "2            9.0       0.999328                  88.90\n",
       "3           25.0       0.998684                  96.01\n",
       "4           19.0       0.998896                  94.74\n",
       "..           ...            ...                    ...\n",
       "73          34.0       0.998157                  97.06\n",
       "74          36.0       0.997497                  97.23\n",
       "75          34.0       0.997934                  97.06\n",
       "76          32.0       0.997869                  96.88\n",
       "77          28.0       0.998253                  96.43\n",
       "\n",
       "[78 rows x 3 columns]"
      ]
     },
     "execution_count": 17,
     "metadata": {},
     "output_type": "execute_result"
    }
   ],
   "source": [
    "predictions = linear_model.predict(test_features) \n",
    "test_preds= pd.DataFrame({\"Original MPG\": list(test_labels), \"Predicted MPG\": list(predictions.reshape(-1))})\n",
    "test_preds[\"Percentage Difference\"] = round(( abs(test_preds[\"Original MPG\"] - test_preds[ \"Predicted MPG\"]) / test_preds[\"Original MPG\"])*100 ,2)\n",
    "test_preds"
   ]
  },
  {
   "cell_type": "code",
   "execution_count": 8,
   "metadata": {
    "colab": {
     "base_uri": "https://localhost:8080/",
     "height": 405
    },
    "id": "m3dwNxNUxbpr",
    "outputId": "5f6293c7-4d72-40dd-b9f2-4ad374f7815a"
   },
   "outputs": [
    {
     "data": {
      "image/png": "[encoded data removed]",
      "text/plain": [
       "<Figure size 1296x432 with 1 Axes>"
      ]
     },
     "metadata": {
      "needs_background": "light"
     },
     "output_type": "display_data"
    }
   ],
   "source": [
    "plt.figure(figsize=(18,6))\n",
    "plt.hist(test_preds[\"Percentage Difference\"], bins=40);\n",
    "plt.title(\"Histogram of Mean Absolute Error\");"
   ]
  },
  {
   "cell_type": "code",
   "execution_count": 9,
   "metadata": {},
   "outputs": [
    {
     "name": "stdout",
     "output_type": "stream",
     "text": [
      "INFO:tensorflow:Assets written to: models/tf_intro/saved_model/assets\n"
     ]
    },
    {
     "name": "stderr",
     "output_type": "stream",
     "text": [
      "2022-11-03 03:39:58.284187: W tensorflow/python/util/util.cc:368] Sets are not currently considered sequences, but this may change in the future, so consider avoiding using them.\n"
     ]
    }
   ],
   "source": [
    "linear_model.save('models/tf_intro/saved_model')"
   ]
  },
  {
   "cell_type": "markdown",
   "metadata": {},
   "source": [
    "## Convert to Tensorflow Lite \n",
    "\n",
    "In this section, we will explore how to convert the model to a tensorflow.lite model. \n",
    "The exported model can then be imported in an android app. "
   ]
  },
  {
   "cell_type": "code",
   "execution_count": 10,
   "metadata": {},
   "outputs": [
    {
     "name": "stdout",
     "output_type": "stream",
     "text": [
      "INFO:tensorflow:Assets written to: /var/folders/c4/vw74f9k1217fcbnwv4tttgn40000gn/T/tmpns5dn5md/assets\n"
     ]
    },
    {
     "name": "stderr",
     "output_type": "stream",
     "text": [
      "2022-11-03 03:40:10.022926: W tensorflow/compiler/mlir/lite/python/tf_tfl_flatbuffer_helpers.cc:357] Ignored output_format.\n",
      "2022-11-03 03:40:10.022946: W tensorflow/compiler/mlir/lite/python/tf_tfl_flatbuffer_helpers.cc:360] Ignored drop_control_dependency.\n",
      "WARNING:absl:Buffer deduplication procedure will be skipped when flatbuffer library is not properly loaded\n",
      "2022-11-03 03:40:10.023444: I tensorflow/cc/saved_model/reader.cc:43] Reading SavedModel from: /var/folders/c4/vw74f9k1217fcbnwv4tttgn40000gn/T/tmpns5dn5md\n",
      "2022-11-03 03:40:10.024010: I tensorflow/cc/saved_model/reader.cc:78] Reading meta graph with tags { serve }\n",
      "2022-11-03 03:40:10.024015: I tensorflow/cc/saved_model/reader.cc:119] Reading SavedModel debug info (if present) from: /var/folders/c4/vw74f9k1217fcbnwv4tttgn40000gn/T/tmpns5dn5md\n",
      "2022-11-03 03:40:10.026222: I tensorflow/cc/saved_model/loader.cc:228] Restoring SavedModel bundle.\n",
      "2022-11-03 03:40:10.047508: I tensorflow/cc/saved_model/loader.cc:212] Running initialization op on SavedModel bundle at path: /var/folders/c4/vw74f9k1217fcbnwv4tttgn40000gn/T/tmpns5dn5md\n",
      "2022-11-03 03:40:10.054438: I tensorflow/cc/saved_model/loader.cc:301] SavedModel load for tags { serve }; Status: success: OK. Took 30995 microseconds.\n",
      "2022-11-03 03:40:10.066047: I tensorflow/compiler/mlir/tensorflow/utils/dump_mlir_util.cc:237] disabling MLIR crash reproducer, set env var `MLIR_CRASH_REPRODUCER_DIRECTORY` to enable.\n"
     ]
    }
   ],
   "source": [
    "# Convert the model.\n",
    "converter = tf.lite.TFLiteConverter.from_keras_model(linear_model)\n",
    "tflite_model = converter.convert()\n",
    "\n",
    "# Save the model.\n",
    "with open('models/tf_intro/cars.tflite', 'wb') as f:\n",
    "  f.write(tflite_model)"
   ]
  },
  {
   "cell_type": "code",
   "execution_count": null,
   "metadata": {},
   "outputs": [],
   "source": []
  }
 ],
 "metadata": {
  "accelerator": "GPU",
  "colab": {
   "name": "Introduction to Tensorflow.ipynb",
   "provenance": []
  },
  "interpreter": {
   "hash": "b0fa6594d8f4cbf19f97940f81e996739fb7646882a419484c72d19e05852a7e"
  },
  "kernelspec": {
   "display_name": "Python 3.9.10 64-bit",
   "language": "python",
   "name": "python3"
  },
  "language_info": {
   "codemirror_mode": {
    "name": "ipython",
    "version": 3
   },
   "file_extension": ".py",
   "mimetype": "text/x-python",
   "name": "python",
   "nbconvert_exporter": "python",
   "pygments_lexer": "ipython3",
   "version": "3.9.12"
  }
 },
 "nbformat": 4,
 "nbformat_minor": 4
}
